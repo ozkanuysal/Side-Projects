{
 "cells": [
  {
   "cell_type": "code",
   "execution_count": 1,
   "metadata": {},
   "outputs": [],
   "source": [
    "import time"
   ]
  },
  {
   "cell_type": "code",
   "execution_count": 2,
   "metadata": {},
   "outputs": [],
   "source": [
    "import sqlite3"
   ]
  },
  {
   "cell_type": "code",
   "execution_count": 3,
   "metadata": {},
   "outputs": [],
   "source": [
    "import wikipedia"
   ]
  },
  {
   "cell_type": "code",
   "execution_count": 4,
   "metadata": {},
   "outputs": [],
   "source": [
    "import speech_recognition as sr"
   ]
  },
  {
   "cell_type": "code",
   "execution_count": 5,
   "metadata": {},
   "outputs": [],
   "source": [
    "import pyttsx3"
   ]
  },
  {
   "cell_type": "code",
   "execution_count": 6,
   "metadata": {},
   "outputs": [],
   "source": [
    "from datetime import datetime"
   ]
  },
  {
   "cell_type": "code",
   "execution_count": 7,
   "metadata": {},
   "outputs": [],
   "source": [
    "import webbrowser"
   ]
  },
  {
   "cell_type": "code",
   "execution_count": 8,
   "metadata": {},
   "outputs": [],
   "source": [
    "import wolframalpha"
   ]
  },
  {
   "cell_type": "code",
   "execution_count": 9,
   "metadata": {},
   "outputs": [],
   "source": [
    " def first_date(self):\n",
    "        con = sqlite3.connect(\"user.db\")\n",
    "        cursor = con.cursor()\n",
    "        cursor.execute(\"CREATE TABLE IF NOT EXISTS USER(Name TEXT,Surname TEXT)\")\n",
    "        con.commit()\n",
    "\n",
    "        cursor.execute(\"select * from USER\")\n",
    "        self.name = cursor.fetchall()\n",
    "        if(len(self.name)==0):\n",
    "            self.speak(\"Hi. My name is Carla. I will always be here for you. What is your name sir?\")\n",
    "            self.response = sr.Recognizer()\n",
    "            with sr.Microphone() as source:\n",
    "                print(\"Listening...\")\n",
    "                audio = self.response.listen(source)\n",
    "            try:\n",
    "                self.phrase = self.response.recognize_google(audio, language=\"tr-TR\")\n",
    "                self.phrase = self.phrase.lower()\n",
    "                print(self.phrase)\n",
    "            except sr.UnknownValueError:\n",
    "                self.speak(\"Sorry, I did not get that.Please repeat\")\n",
    "            \n",
    "            self.name_list = self.phrase.split(\" \")\n",
    "\n",
    "            cursor.execute(\"insert into USER VALUES(?,?)\",(self.name_list[0],self.name_list[1]))\n",
    "            con.commit()\n",
    "\n",
    "            cursor.execute(\"select * from USER\")\n",
    "            self.name = cursor.fetchall()\n",
    "            self.greeting()\n",
    "        else:\n",
    "            self.greeting()"
   ]
  },
  {
   "cell_type": "code",
   "execution_count": 10,
   "metadata": {},
   "outputs": [],
   "source": [
    "def greeting(self):\n",
    "        hour = datetime.now().hour\n",
    "        if(hour>=7 and hour<12):\n",
    "            self.speak(\"Good Morning \" + self.name[0][0])\n",
    "        elif(hour>=12 and hour<18):\n",
    "            self.speak(\"Good Afternoon \" + self.name[0][0])\n",
    "        elif(hour>=18 and hour<22):\n",
    "            self.speak(\"Good Evening \" + self.name[0][0])\n",
    "        else:\n",
    "            self.speak(\"Good Night \" + self.name[0][0])\n",
    "        \n",
    "        self.listen()"
   ]
  },
  {
   "cell_type": "code",
   "execution_count": 11,
   "metadata": {},
   "outputs": [],
   "source": [
    " def speak(self,say):\n",
    "        self.engine = pyttsx3.init()\n",
    "        self.engine.say(say)\n",
    "        self.engine.runAndWait()\n"
   ]
  },
  {
   "cell_type": "code",
   "execution_count": 24,
   "metadata": {},
   "outputs": [
    {
     "ename": "SyntaxError",
     "evalue": "invalid syntax (<ipython-input-24-539203872b10>, line 1)",
     "output_type": "error",
     "traceback": [
      "\u001b[1;36m  File \u001b[1;32m\"<ipython-input-24-539203872b10>\"\u001b[1;36m, line \u001b[1;32m1\u001b[0m\n\u001b[1;33m    elif \"wikipedia\" in self.phrase:\u001b[0m\n\u001b[1;37m    ^\u001b[0m\n\u001b[1;31mSyntaxError\u001b[0m\u001b[1;31m:\u001b[0m invalid syntax\n"
     ]
    }
   ],
   "source": [
    " elif \"wikipedia\" in self.phrase:\n",
    "    list = self.phrase.split(\" \")\n",
    "    a = list.index(\"wikipedia\")\n",
    "    search = \"\"\n",
    "    for i in list[a+1:]:\n",
    "        search += str(i+\" \")\n",
    "    try:\n",
    "        sentence = wikipedia.summary(search,sentences=2)\n",
    "        print(sentence)\n",
    "        self.speak(sentence)\n",
    "    except:\n",
    "        self.speak(\"I could not find anything about it.\")"
   ]
  },
  {
   "cell_type": "code",
   "execution_count": 25,
   "metadata": {},
   "outputs": [
    {
     "ename": "NameError",
     "evalue": "name 'self' is not defined",
     "output_type": "error",
     "traceback": [
      "\u001b[1;31m---------------------------------------------------------------------------\u001b[0m",
      "\u001b[1;31mNameError\u001b[0m                                 Traceback (most recent call last)",
      "\u001b[1;32m<ipython-input-25-b1428a96d84f>\u001b[0m in \u001b[0;36m<module>\u001b[1;34m\u001b[0m\n\u001b[0;32m      1\u001b[0m \u001b[0mclient\u001b[0m \u001b[1;33m=\u001b[0m \u001b[0mwolframalpha\u001b[0m\u001b[1;33m.\u001b[0m\u001b[0mClient\u001b[0m\u001b[1;33m(\u001b[0m\u001b[1;34m\"YOUR API KEY\"\u001b[0m\u001b[1;33m)\u001b[0m\u001b[1;33m\u001b[0m\u001b[1;33m\u001b[0m\u001b[0m\n\u001b[1;32m----> 2\u001b[1;33m \u001b[0mres\u001b[0m \u001b[1;33m=\u001b[0m \u001b[0mclient\u001b[0m\u001b[1;33m.\u001b[0m\u001b[0mquery\u001b[0m\u001b[1;33m(\u001b[0m\u001b[0mself\u001b[0m\u001b[1;33m.\u001b[0m\u001b[0mphrase\u001b[0m\u001b[1;33m)\u001b[0m\u001b[1;33m\u001b[0m\u001b[1;33m\u001b[0m\u001b[0m\n\u001b[0m\u001b[0;32m      3\u001b[0m \u001b[0mprint\u001b[0m\u001b[1;33m(\u001b[0m\u001b[0mnext\u001b[0m\u001b[1;33m(\u001b[0m\u001b[0mres\u001b[0m\u001b[1;33m.\u001b[0m\u001b[0mresults\u001b[0m\u001b[1;33m)\u001b[0m\u001b[1;33m.\u001b[0m\u001b[0mtext\u001b[0m\u001b[1;33m)\u001b[0m\u001b[1;33m\u001b[0m\u001b[1;33m\u001b[0m\u001b[0m\n\u001b[0;32m      4\u001b[0m \u001b[0mself\u001b[0m\u001b[1;33m.\u001b[0m\u001b[0mspeak\u001b[0m\u001b[1;33m(\u001b[0m\u001b[0mnext\u001b[0m\u001b[1;33m(\u001b[0m\u001b[0mres\u001b[0m\u001b[1;33m.\u001b[0m\u001b[0mresults\u001b[0m\u001b[1;33m)\u001b[0m\u001b[1;33m.\u001b[0m\u001b[0mtext\u001b[0m\u001b[1;33m)\u001b[0m\u001b[1;33m\u001b[0m\u001b[1;33m\u001b[0m\u001b[0m\n",
      "\u001b[1;31mNameError\u001b[0m: name 'self' is not defined"
     ]
    }
   ],
   "source": [
    "client = wolframalpha.Client(\"YOUR API KEY\")\n",
    "res = client.query(self.phrase)\n",
    "print(next(res.results).text)\n",
    "self.speak(next(res.results).text)"
   ]
  },
  {
   "cell_type": "code",
   "execution_count": null,
   "metadata": {},
   "outputs": [],
   "source": []
  }
 ],
 "metadata": {
  "kernelspec": {
   "display_name": "Python 3",
   "language": "python",
   "name": "python3"
  },
  "language_info": {
   "codemirror_mode": {
    "name": "ipython",
    "version": 3
   },
   "file_extension": ".py",
   "mimetype": "text/x-python",
   "name": "python",
   "nbconvert_exporter": "python",
   "pygments_lexer": "ipython3",
   "version": "3.8.5"
  }
 },
 "nbformat": 4,
 "nbformat_minor": 4
}
